{
 "cells": [
  {
   "cell_type": "code",
   "execution_count": 52,
   "id": "3eebd53b-880f-4282-9d1a-f69be9449c39",
   "metadata": {},
   "outputs": [
    {
     "name": "stdout",
     "output_type": "stream",
     "text": [
      "Soman\n",
      "Soman is sitting\n"
     ]
    }
   ],
   "source": [
    "# q1 Create a class Person with attributes name, age, and city.\n",
    "class Person:\n",
    "    def __init__(self,name,age,city):\n",
    "        self.name=name\n",
    "        self.age=age\n",
    "        self.city=city\n",
    "    def sit(self):\n",
    "        print(f\"{self.name} is sitting\")\n",
    "the_person=Person(\"Soman\",20,\"Lahore\")  \n",
    "print(the_person.name)\n",
    "the_person.sit()"
   ]
  },
  {
   "cell_type": "code",
   "execution_count": 54,
   "id": "d13fa44b-faba-40ad-a738-457c8c7c00a9",
   "metadata": {},
   "outputs": [
    {
     "name": "stdout",
     "output_type": "stream",
     "text": [
      "koenisseg avera final 21\n"
     ]
    }
   ],
   "source": [
    "# q2 Create a class Car with attributes make, model, and year.\n",
    "class Car:\n",
    "    def __init__(self,make,model,year):\n",
    "        self.make=make\n",
    "        self.model=model\n",
    "        self.year=year\n",
    "the_car=Car(\"koenisseg\",\"avera final\",21)\n",
    "print(the_car.make,the_car.model,the_car.year)"
   ]
  },
  {
   "cell_type": "code",
   "execution_count": 56,
   "id": "ce44b885-fd7d-4f51-a5b7-988acae85713",
   "metadata": {},
   "outputs": [
    {
     "name": "stdout",
     "output_type": "stream",
     "text": [
      "Area = 78.55\n",
      "Circumference = 31.419999999999998\n"
     ]
    }
   ],
   "source": [
    "# q3 Create a class Circle with attributes radius and methods to calculate area and circumference.\n",
    "class Circle:\n",
    "    def __init__(self, radius):\n",
    "        self.radius = radius\n",
    "\n",
    "    def area_cal(self):\n",
    "        area = 3.142 * self.radius**2\n",
    "        print(f\"Area = {area}\")\n",
    "\n",
    "    def circum(self):\n",
    "        circumference = 2 * 3.142 * self.radius\n",
    "        print(f\"Circumference = {circumference}\")\n",
    "\n",
    "\n",
    "circle = Circle(5)\n",
    "circle.area_cal()\n",
    "circle.circum()\n",
    "\n"
   ]
  },
  {
   "cell_type": "code",
   "execution_count": 58,
   "id": "0b9f1c44-9a93-4d01-a550-a237a31d2993",
   "metadata": {},
   "outputs": [
    {
     "name": "stdout",
     "output_type": "stream",
     "text": [
      "Area = 50\n",
      "Perimeter = 30\n"
     ]
    }
   ],
   "source": [
    "# q4 Create a class Rectangle with attributes length and width and methods to calculate area and perimeter.\n",
    "class Rectangle:\n",
    "    def __init__(self, length, width):\n",
    "        self.length = length\n",
    "        self.width = width\n",
    "\n",
    "    def area_cal(self):\n",
    "        area = self.length * self.width\n",
    "        print(f\"Area = {area}\")\n",
    "\n",
    "    def perimeter_cal(self):\n",
    "        perimeter = 2 * (self.length + self.width)\n",
    "        print(f\"Perimeter = {perimeter}\")\n",
    "\n",
    "\n",
    "rectangle = Rectangle(10, 5)\n",
    "rectangle.area_cal()\n",
    "rectangle.perimeter_cal()"
   ]
  },
  {
   "cell_type": "code",
   "execution_count": 60,
   "id": "5b2deb3b-0ea9-4808-a35a-e5e33e8e3a05",
   "metadata": {},
   "outputs": [
    {
     "name": "stdout",
     "output_type": "stream",
     "text": [
      "Average Marks = 86.6\n"
     ]
    }
   ],
   "source": [
    "# q5 Create a class Student with attributes name, roll_number, and marks. Implement a method to calculate the average marks.\n",
    "class Student:\n",
    "    def __init__(self, name, roll_number, marks):\n",
    "        self.name = name\n",
    "        self.roll_number = roll_number\n",
    "        self.marks = marks \n",
    "    def calculate_average(self):\n",
    "        if len(self.marks) > 0:\n",
    "            average = sum(self.marks) / len(self.marks)\n",
    "            print(f\"Average Marks = {average}\")\n",
    "        else:\n",
    "            print(\"No marks available to calculate the average.\")\n",
    "\n",
    "student = Student(\"Ali\", 101, [85, 90, 78, 92, 88])\n",
    "student.calculate_average()"
   ]
  },
  {
   "cell_type": "code",
   "execution_count": 62,
   "id": "13da9229-f98a-4934-ac2b-05271ef2ceea",
   "metadata": {},
   "outputs": [
    {
     "name": "stdout",
     "output_type": "stream",
     "text": [
      "Title: 1984\n",
      "Author: Shakespear\n",
      "Publication Year: 1949\n"
     ]
    }
   ],
   "source": [
    "# q6 Create a class Book with attributes title, author, and publication_year.\n",
    "class Book:\n",
    "    def __init__(self, title, author, publication_year):\n",
    "        self.title = title\n",
    "        self.author = author\n",
    "        self.publication_year = publication_year\n",
    "\n",
    "    def display_info(self):\n",
    "        print(f\"Title: {self.title}\")\n",
    "        print(f\"Author: {self.author}\")\n",
    "        print(f\"Publication Year: {self.publication_year}\")\n",
    "\n",
    "book = Book(\"1984\", \"Shakespear\", 1949)\n",
    "book.display_info()"
   ]
  },
  {
   "cell_type": "code",
   "execution_count": 64,
   "id": "8291d69d-1b36-4c8b-aa4f-cb16a9f4a687",
   "metadata": {},
   "outputs": [
    {
     "name": "stdout",
     "output_type": "stream",
     "text": [
      "Name: Soman\n",
      "Salary: 50000\n",
      "Designation: Data Scientist\n"
     ]
    }
   ],
   "source": [
    "# q7 Create a class Employee with attributes name, salary, and designation.\n",
    "class Employee:\n",
    "    def __init__(self, name, salary, designation):\n",
    "        self.name = name\n",
    "        self.salary = salary\n",
    "        self.designation = designation\n",
    "\n",
    "    def display_info(self):\n",
    "        print(f\"Name: {self.name}\")\n",
    "        print(f\"Salary: {self.salary}\")\n",
    "        print(f\"Designation: {self.designation}\")\n",
    "employee = Employee(\"Soman\", 50000, \"Data Scientist\")\n",
    "employee.display_info()\n"
   ]
  },
  {
   "cell_type": "code",
   "execution_count": 66,
   "id": "03219e75-437f-4e3c-9b60-0ff54146ea9d",
   "metadata": {},
   "outputs": [
    {
     "name": "stdout",
     "output_type": "stream",
     "text": [
      "Account Holder: Ahmed\n",
      "Account Number: 123456789\n",
      "Balance: 1000\n",
      "Deposited 500. New Balance = 1500\n",
      "Withdrew 300. New Balance = 1200\n",
      "Insufficient balance.\n"
     ]
    }
   ],
   "source": [
    "# q8 Create a class Bank with attributes name, account_number, and balance. Implement methods to deposit and withdraw money.\n",
    "class Bank:\n",
    "    def __init__(self, name, account_number, balance):\n",
    "        self.name = name\n",
    "        self.account_number = account_number\n",
    "        self.balance = balance\n",
    "\n",
    "    def deposit(self, amount):\n",
    "        if amount > 0:\n",
    "            self.balance += amount\n",
    "            print(f\"Deposited {amount}. New Balance = {self.balance}\")\n",
    "        else:\n",
    "            print(\"Deposit amount must be greater than zero.\")\n",
    "\n",
    "    def withdraw(self, amount):\n",
    "        if amount > 0:\n",
    "            if amount <= self.balance:\n",
    "                self.balance -= amount\n",
    "                print(f\"Withdrew {amount}. New Balance = {self.balance}\")\n",
    "            else:\n",
    "                print(\"Insufficient balance.\")\n",
    "        else:\n",
    "            print(\"Withdrawal amount must be greater than zero.\")\n",
    "\n",
    "    def display_info(self):\n",
    "        print(f\"Account Holder: {self.name}\")\n",
    "        print(f\"Account Number: {self.account_number}\")\n",
    "        print(f\"Balance: {self.balance}\")\n",
    "\n",
    "account = Bank(\"Ahmed\", 123456789, 1000)\n",
    "account.display_info()\n",
    "account.deposit(500)\n",
    "account.withdraw(300)\n",
    "account.withdraw(1500)  "
   ]
  },
  {
   "cell_type": "code",
   "execution_count": null,
   "id": "a67df838-6b7c-4459-8298-d0b4f1eb3321",
   "metadata": {},
   "outputs": [],
   "source": []
  }
 ],
 "metadata": {
  "kernelspec": {
   "display_name": "Python 3 (ipykernel)",
   "language": "python",
   "name": "python3"
  },
  "language_info": {
   "codemirror_mode": {
    "name": "ipython",
    "version": 3
   },
   "file_extension": ".py",
   "mimetype": "text/x-python",
   "name": "python",
   "nbconvert_exporter": "python",
   "pygments_lexer": "ipython3",
   "version": "3.12.4"
  }
 },
 "nbformat": 4,
 "nbformat_minor": 5
}
